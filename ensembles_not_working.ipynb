{
 "cells": [
  {
   "cell_type": "code",
   "execution_count": 1,
   "metadata": {},
   "outputs": [
    {
     "name": "stderr",
     "output_type": "stream",
     "text": [
      "2024-02-20 16:10:45.544763: I tensorflow/core/util/port.cc:111] oneDNN custom operations are on. You may see slightly different numerical results due to floating-point round-off errors from different computation orders. To turn them off, set the environment variable `TF_ENABLE_ONEDNN_OPTS=0`.\n",
      "2024-02-20 16:10:45.565860: E tensorflow/compiler/xla/stream_executor/cuda/cuda_dnn.cc:9342] Unable to register cuDNN factory: Attempting to register factory for plugin cuDNN when one has already been registered\n",
      "2024-02-20 16:10:45.565876: E tensorflow/compiler/xla/stream_executor/cuda/cuda_fft.cc:609] Unable to register cuFFT factory: Attempting to register factory for plugin cuFFT when one has already been registered\n",
      "2024-02-20 16:10:45.565893: E tensorflow/compiler/xla/stream_executor/cuda/cuda_blas.cc:1518] Unable to register cuBLAS factory: Attempting to register factory for plugin cuBLAS when one has already been registered\n",
      "2024-02-20 16:10:45.570451: I tensorflow/core/platform/cpu_feature_guard.cc:182] This TensorFlow binary is optimized to use available CPU instructions in performance-critical operations.\n",
      "To enable the following instructions: AVX2 AVX_VNNI FMA, in other operations, rebuild TensorFlow with the appropriate compiler flags.\n",
      "2024-02-20 16:10:45.952060: W tensorflow/compiler/tf2tensorrt/utils/py_utils.cc:38] TF-TRT Warning: Could not find TensorRT\n"
     ]
    },
    {
     "name": "stdout",
     "output_type": "stream",
     "text": [
      "Using TensorFlow backend\n"
     ]
    },
    {
     "name": "stderr",
     "output_type": "stream",
     "text": [
      "Keras Uncertainty will use standalone Keras backend"
     ]
    }
   ],
   "source": [
    "from models import *\n",
    "from models_bachelors import *"
   ]
  },
  {
   "cell_type": "code",
   "execution_count": 7,
   "metadata": {},
   "outputs": [
    {
     "name": "stdout",
     "output_type": "stream",
     "text": [
      "Reloading Tuner from mcdropout/tuning/mcdropout/tuner0.json\n",
      "Reloading Tuner from mcdropconnect/tuning/mcdropconnect/tuner0.json\n"
     ]
    },
    {
     "ename": "AttributeError",
     "evalue": "'DropoutModel' object has no attribute 'get_model'",
     "output_type": "error",
     "traceback": [
      "\u001b[0;31m---------------------------------------------------------------------------\u001b[0m",
      "\u001b[0;31mAttributeError\u001b[0m                            Traceback (most recent call last)",
      "Cell \u001b[0;32mIn[7], line 4\u001b[0m\n\u001b[1;32m      2\u001b[0m ensemble \u001b[38;5;241m=\u001b[39m DropoutModel(dropout)\n\u001b[1;32m      3\u001b[0m ensemble\u001b[38;5;241m.\u001b[39mbuild(dropout)\n\u001b[0;32m----> 4\u001b[0m model \u001b[38;5;241m=\u001b[39m \u001b[43mensemble\u001b[49m\u001b[38;5;241;43m.\u001b[39;49m\u001b[43mget_model\u001b[49m()\n",
      "\u001b[0;31mAttributeError\u001b[0m: 'DropoutModel' object has no attribute 'get_model'"
     ]
    }
   ],
   "source": [
    "dropout, dropconnect = load_tuned_models()\n",
    "ensemble = EnsembleModel(dropout)\n",
    "ensemble.build(dropout)\n",
    "model = ensemble.get_model()"
   ]
  },
  {
   "cell_type": "code",
   "execution_count": 5,
   "metadata": {},
   "outputs": [],
   "source": [
    "from file_functions import *\n",
    "dataset = load_dict_from_hdf5('dataset.h5')\n",
    "lockbox = load_dict_from_hdf5('lockbox.h5')\n"
   ]
  },
  {
   "cell_type": "code",
   "execution_count": 6,
   "metadata": {},
   "outputs": [
    {
     "name": "stdout",
     "output_type": "stream",
     "text": [
      "(576, 22, 1125)\n"
     ]
    },
    {
     "name": "stderr",
     "output_type": "stream",
     "text": [
      "2024-02-20 16:20:49.092894: I tensorflow/compiler/xla/stream_executor/cuda/cuda_dnn.cc:442] Loaded cuDNN version 8902\n"
     ]
    },
    {
     "data": {
      "text/plain": [
       "array([[0.46844822, 0.19491705, 0.09726338, 0.23937134],\n",
       "       [0.5213795 , 0.20263712, 0.06137969, 0.21460374],\n",
       "       [0.44173035, 0.19349687, 0.10668369, 0.25808913],\n",
       "       ...,\n",
       "       [0.41637453, 0.24830899, 0.10518096, 0.23013549],\n",
       "       [0.48435625, 0.17349318, 0.10137437, 0.24077621],\n",
       "       [0.4892896 , 0.19613102, 0.07222419, 0.2423552 ]], dtype=float32)"
      ]
     },
     "execution_count": 6,
     "metadata": {},
     "output_type": "execute_result"
    }
   ],
   "source": [
    "loaded_inputs = dataset['inputs']\n",
    "loaded_targets = dataset['targets']\n",
    "print(loaded_inputs[0].shape)\n",
    "model.predict(loaded_inputs[0])"
   ]
  }
 ],
 "metadata": {
  "kernelspec": {
   "display_name": "tf",
   "language": "python",
   "name": "python3"
  },
  "language_info": {
   "codemirror_mode": {
    "name": "ipython",
    "version": 3
   },
   "file_extension": ".py",
   "mimetype": "text/x-python",
   "name": "python",
   "nbconvert_exporter": "python",
   "pygments_lexer": "ipython3",
   "version": "3.9.18"
  }
 },
 "nbformat": 4,
 "nbformat_minor": 2
}
