{
 "cells": [
  {
   "cell_type": "code",
   "execution_count": 1,
   "metadata": {},
   "outputs": [
    {
     "name": "stdout",
     "output_type": "stream",
     "text": [
      "env: CUDA_VISIBLE_DEVICES=1\n"
     ]
    }
   ],
   "source": [
    "# Set notebook to use only one GPU\n",
    "%env CUDA_VISIBLE_DEVICES=1     \n",
    "%matplotlib inline"
   ]
  },
  {
   "cell_type": "code",
   "execution_count": 2,
   "metadata": {},
   "outputs": [
    {
     "name": "stderr",
     "output_type": "stream",
     "text": [
      "2024-04-09 12:47:32.167386: I tensorflow/core/util/port.cc:111] oneDNN custom operations are on. You may see slightly different numerical results due to floating-point round-off errors from different computation orders. To turn them off, set the environment variable `TF_ENABLE_ONEDNN_OPTS=0`.\n",
      "2024-04-09 12:47:32.187923: E tensorflow/compiler/xla/stream_executor/cuda/cuda_dnn.cc:9342] Unable to register cuDNN factory: Attempting to register factory for plugin cuDNN when one has already been registered\n",
      "2024-04-09 12:47:32.187940: E tensorflow/compiler/xla/stream_executor/cuda/cuda_fft.cc:609] Unable to register cuFFT factory: Attempting to register factory for plugin cuFFT when one has already been registered\n",
      "2024-04-09 12:47:32.187956: E tensorflow/compiler/xla/stream_executor/cuda/cuda_blas.cc:1518] Unable to register cuBLAS factory: Attempting to register factory for plugin cuBLAS when one has already been registered\n",
      "2024-04-09 12:47:32.192121: I tensorflow/core/platform/cpu_feature_guard.cc:182] This TensorFlow binary is optimized to use available CPU instructions in performance-critical operations.\n",
      "To enable the following instructions: AVX2 AVX_VNNI FMA, in other operations, rebuild TensorFlow with the appropriate compiler flags.\n",
      "2024-04-09 12:47:32.576119: W tensorflow/compiler/tf2tensorrt/utils/py_utils.cc:38] TF-TRT Warning: Could not find TensorRT\n"
     ]
    },
    {
     "name": "stdout",
     "output_type": "stream",
     "text": [
      "Using TensorFlow backend\n"
     ]
    },
    {
     "name": "stderr",
     "output_type": "stream",
     "text": [
      "Keras Uncertainty will use standalone Keras backend"
     ]
    }
   ],
   "source": [
    "import file_functions as ff\n",
    "import numpy as np\n",
    "methods = ff.fetch_method_names()\n",
    "per_subj_dict = ff.create_per_subj_dict()\n",
    "metrics = ff.fetch_metric_names()\n",
    "keys = ff.fetch_keys()      # Fetches names names for within-pop and out-of-pop sets"
   ]
  },
  {
   "cell_type": "code",
   "execution_count": 3,
   "metadata": {},
   "outputs": [],
   "source": [
    "'''\n",
    "Per-subject uncertainties and AUROC\n",
    "This is exactly what I need:\n",
    "    - Per subject AUROC. This can only be done with array of shape (9, 576).\n",
    "        - start w/ (50, 9, 50, 576, 4) for a method.\n",
    "        - Mean axis=0 -> (9, 50, 576, 4)\n",
    "        - Get uncertainties -> (9, 576) -> Mean axis -1=Avg. uncertainties -> (9, 1)\n",
    "        - For each subject in axis 0, calculate AUROC to get final array of (9, 1)\n",
    "    - Array of shape (9, 1) for uncertanties\n",
    "        - Get uncertainties -> (9, 576) -> Mean axis -1=Avg. uncertainties -> (9, 1)\n",
    "'''\n",
    "\n",
    "from sklearn.metrics import auc\n",
    "import matplotlib.patches as mpatches\n",
    "from numpy import round\n",
    "\n",
    "'''\n",
    "Gets a numpy array down to a 2D array\n",
    "'''\n",
    "def get_in_shape(data):\n",
    "    # If data has shape of 2 elements or less, assume it's already in shape\n",
    "    if len(data.shape) < 3:\n",
    "        return data\n",
    "    else:\n",
    "        while len(data.shape) > 2:\n",
    "            data = np.vstack(data)\n",
    "        return data\n",
    "\n",
    "'''\n",
    "data can be whatever shape.\n",
    "manual roc plot creation reqs:\n",
    "    y_pred: (50, 576, 4)\n",
    "'''\n",
    "def get_fpr_tpr(y_true, y_pred, unc, isStandard):\n",
    "    thresholds = np.arange(0, 1.001, 0.001)\n",
    "    tpr = []\n",
    "    fpr = []\n",
    "    y_pred = get_in_shape(y_pred.mean(axis=0)) if isStandard not in [1, 2] else y_pred     # Take mean of axis with forward passes with methods aren't standard and DUQ\n",
    "    y_true = get_in_shape(y_true)\n",
    "\n",
    "    for t in thresholds:\n",
    "        '''\n",
    "        Order is reversed because FPR and TPR are reversed for some reason\n",
    "        '''\n",
    "        if isStandard == 2:     # For DUQ, AUROC is better when maximum distance to any class is chosen. But this flips the AUROC.\n",
    "            certains = (t > unc)\n",
    "            uncertains = (t < unc)\n",
    "        else:\n",
    "            certains = (t < unc)           # Certain when uncertainty is below threshold\n",
    "            uncertains = (t > unc)\n",
    "        # Calculate TPR and FPR\n",
    "        tp = sum(y_pred.argmax(axis=1)[uncertains] != y_true.argmax(axis=1)[uncertains])     # N. preds uncertain predictions that are incorrect\n",
    "        fn = sum(y_pred.argmax(axis=1)[certains] != y_true.argmax(axis=1)[certains])      # Prediction that's certain and incorrect\n",
    "        fp = sum(y_pred.argmax(axis=1)[uncertains] == y_true.argmax(axis=1)[uncertains])   # prediction that's uncertain and correct\n",
    "        tn = sum(y_pred.argmax(axis=1)[certains] == y_true.argmax(axis=1)[certains]) # Prediction that's certain and correct\n",
    "        # print(f'tp: {tp} fn: {fn} fp: {fp} tn: {tn}')\n",
    "        fpr.append(fp / (fp + tn))\n",
    "        tpr.append(tp / (tp + fn))\n",
    "    return np.array(tpr), np.array(fpr)\n",
    "\n",
    "def get_auroc(y_true, y_pred, unc, isStandard):\n",
    "    tpr, fpr = get_fpr_tpr(y_true, y_pred, unc, isStandard)\n",
    "    return auc(tpr, fpr)\n",
    "\n",
    "def per_subject_metrics(data, method, key, unc_method):\n",
    "    key_set = data[key]        # Whether lockbox or preds of the method\n",
    "    y_true = key_set['labels']\n",
    "    isStandard = ff.checkIfStandard(method)\n",
    "    # Average the set of 50 predictions for flipout and MC methods\n",
    "    y_preds = key_set['preds'].mean(axis=0) if 'mc' in method or 'flipout' in method else key_set['preds']\n",
    "    unc = ff.get_uncertainty(y_preds, unc_method, isStandard)\n",
    "    per_subject_aucs = []\n",
    "    for subject_id in range(y_preds.shape[0]):\n",
    "        per_subject_aucs.append(get_auroc(y_true[subject_id], y_preds[subject_id], unc[subject_id], isStandard))\n",
    "\n",
    "    return np.array(per_subject_aucs), unc.mean(axis=1)\n",
    "\n",
    "    \n",
    "\n",
    "'''\n",
    "data: (50, 9, 50, 576, 4)\n",
    "method: 'mcdropconnect'/'mcdropout'/'standard'/'standard_dropconnect'\n",
    "key: 'test'/'lockbox'\n",
    "'''\n",
    "def do_everything(data, method, key, unc_method):\n",
    "    # data shape for UQ preds: (50, 9, 50, 576, 4)\n",
    "    aurocs, uncertainties = per_subject_metrics(data, method, key, unc_method)\n",
    "    return aurocs, uncertainties"
   ]
  },
  {
   "cell_type": "code",
   "execution_count": 4,
   "metadata": {},
   "outputs": [
    {
     "name": "stdout",
     "output_type": "stream",
     "text": [
      "-----------------------------------------------\n",
      "dropconnect\n",
      "test\n",
      "accuracy\n",
      "predictive-entropy\n",
      "y_true: (576, 4), y_pred: (576, 4)\n",
      "AFTER STUFF, y_true: (576, 4), y_pred: (576, 4)\n",
      "y_true: (576, 4), y_pred: (576, 4)\n",
      "AFTER STUFF, y_true: (576, 4), y_pred: (576, 4)\n",
      "y_true: (576, 4), y_pred: (576, 4)\n",
      "AFTER STUFF, y_true: (576, 4), y_pred: (576, 4)\n",
      "y_true: (576, 4), y_pred: (576, 4)\n",
      "AFTER STUFF, y_true: (576, 4), y_pred: (576, 4)\n",
      "y_true: (576, 4), y_pred: (576, 4)\n",
      "AFTER STUFF, y_true: (576, 4), y_pred: (576, 4)\n",
      "y_true: (576, 4), y_pred: (576, 4)\n",
      "AFTER STUFF, y_true: (576, 4), y_pred: (576, 4)\n",
      "y_true: (576, 4), y_pred: (576, 4)\n",
      "AFTER STUFF, y_true: (576, 4), y_pred: (576, 4)\n",
      "y_true: (576, 4), y_pred: (576, 4)\n",
      "AFTER STUFF, y_true: (576, 4), y_pred: (576, 4)\n",
      "y_true: (576, 4), y_pred: (576, 4)\n",
      "AFTER STUFF, y_true: (576, 4), y_pred: (576, 4)\n",
      "67.94393039023032 +/- 6.033248480519447\n",
      "shannon-entropy\n",
      "y_true: (576, 4), y_pred: (576, 4)\n",
      "AFTER STUFF, y_true: (576, 4), y_pred: (576, 4)\n",
      "y_true: (576, 4), y_pred: (576, 4)\n",
      "AFTER STUFF, y_true: (576, 4), y_pred: (576, 4)\n",
      "y_true: (576, 4), y_pred: (576, 4)\n",
      "AFTER STUFF, y_true: (576, 4), y_pred: (576, 4)\n",
      "y_true: (576, 4), y_pred: (576, 4)\n",
      "AFTER STUFF, y_true: (576, 4), y_pred: (576, 4)\n",
      "y_true: (576, 4), y_pred: (576, 4)\n",
      "AFTER STUFF, y_true: (576, 4), y_pred: (576, 4)\n",
      "y_true: (576, 4), y_pred: (576, 4)\n",
      "AFTER STUFF, y_true: (576, 4), y_pred: (576, 4)\n",
      "y_true: (576, 4), y_pred: (576, 4)\n",
      "AFTER STUFF, y_true: (576, 4), y_pred: (576, 4)\n",
      "y_true: (576, 4), y_pred: (576, 4)\n",
      "AFTER STUFF, y_true: (576, 4), y_pred: (576, 4)\n",
      "y_true: (576, 4), y_pred: (576, 4)\n",
      "AFTER STUFF, y_true: (576, 4), y_pred: (576, 4)\n",
      "67.94393039023032 +/- 6.033248480519447\n",
      "mutual-information\n",
      "y_true: (576, 4), y_pred: (576, 4)\n",
      "AFTER STUFF, y_true: (576, 4), y_pred: (576, 4)\n"
     ]
    },
    {
     "ename": "ZeroDivisionError",
     "evalue": "division by zero",
     "output_type": "error",
     "traceback": [
      "\u001b[0;31m---------------------------------------------------------------------------\u001b[0m",
      "\u001b[0;31mZeroDivisionError\u001b[0m                         Traceback (most recent call last)",
      "Cell \u001b[0;32mIn[4], line 21\u001b[0m\n\u001b[1;32m     19\u001b[0m \u001b[38;5;28;01melif\u001b[39;00m unc_method \u001b[38;5;241m==\u001b[39m \u001b[38;5;124m'\u001b[39m\u001b[38;5;124mmutual-information\u001b[39m\u001b[38;5;124m'\u001b[39m \u001b[38;5;129;01mand\u001b[39;00m \u001b[38;5;124m'\u001b[39m\u001b[38;5;124mstandard\u001b[39m\u001b[38;5;124m'\u001b[39m \u001b[38;5;129;01min\u001b[39;00m method:\n\u001b[1;32m     20\u001b[0m     \u001b[38;5;28;01mcontinue\u001b[39;00m\n\u001b[0;32m---> 21\u001b[0m aurocs, _ \u001b[38;5;241m=\u001b[39m \u001b[43mdo_everything\u001b[49m\u001b[43m(\u001b[49m\u001b[43mdata\u001b[49m\u001b[43m,\u001b[49m\u001b[43m \u001b[49m\u001b[43mmethod\u001b[49m\u001b[43m,\u001b[49m\u001b[43m \u001b[49m\u001b[43mkey\u001b[49m\u001b[43m,\u001b[49m\u001b[43m \u001b[49m\u001b[43munc_method\u001b[49m\u001b[43m)\u001b[49m\n\u001b[1;32m     22\u001b[0m per_subj_dict[method][unc_method][key] \u001b[38;5;241m=\u001b[39m aurocs\n\u001b[1;32m     23\u001b[0m \u001b[38;5;28mprint\u001b[39m(\u001b[38;5;124mf\u001b[39m\u001b[38;5;124m'\u001b[39m\u001b[38;5;132;01m{\u001b[39;00mnp\u001b[38;5;241m.\u001b[39mmean(aurocs)\u001b[38;5;250m \u001b[39m\u001b[38;5;241m*\u001b[39m\u001b[38;5;250m \u001b[39m\u001b[38;5;241m100\u001b[39m\u001b[38;5;132;01m}\u001b[39;00m\u001b[38;5;124m +/- \u001b[39m\u001b[38;5;132;01m{\u001b[39;00mnp\u001b[38;5;241m.\u001b[39mstd(aurocs)\u001b[38;5;250m \u001b[39m\u001b[38;5;241m*\u001b[39m\u001b[38;5;250m \u001b[39m\u001b[38;5;241m100\u001b[39m\u001b[38;5;132;01m}\u001b[39;00m\u001b[38;5;124m'\u001b[39m)\n",
      "Cell \u001b[0;32mIn[3], line 89\u001b[0m, in \u001b[0;36mdo_everything\u001b[0;34m(data, method, key, unc_method)\u001b[0m\n\u001b[1;32m     87\u001b[0m \u001b[38;5;28;01mdef\u001b[39;00m \u001b[38;5;21mdo_everything\u001b[39m(data, method, key, unc_method):\n\u001b[1;32m     88\u001b[0m     \u001b[38;5;66;03m# data shape for UQ preds: (50, 9, 50, 576, 4)\u001b[39;00m\n\u001b[0;32m---> 89\u001b[0m     aurocs, uncertainties \u001b[38;5;241m=\u001b[39m \u001b[43mper_subject_metrics\u001b[49m\u001b[43m(\u001b[49m\u001b[43mdata\u001b[49m\u001b[43m,\u001b[49m\u001b[43m \u001b[49m\u001b[43mmethod\u001b[49m\u001b[43m,\u001b[49m\u001b[43m \u001b[49m\u001b[43mkey\u001b[49m\u001b[43m,\u001b[49m\u001b[43m \u001b[49m\u001b[43munc_method\u001b[49m\u001b[43m)\u001b[49m\n\u001b[1;32m     90\u001b[0m     \u001b[38;5;28;01mreturn\u001b[39;00m aurocs, uncertainties\n",
      "Cell \u001b[0;32mIn[3], line 76\u001b[0m, in \u001b[0;36mper_subject_metrics\u001b[0;34m(data, method, key, unc_method)\u001b[0m\n\u001b[1;32m     74\u001b[0m per_subject_aucs \u001b[38;5;241m=\u001b[39m []\n\u001b[1;32m     75\u001b[0m \u001b[38;5;28;01mfor\u001b[39;00m subject_id \u001b[38;5;129;01min\u001b[39;00m \u001b[38;5;28mrange\u001b[39m(y_preds\u001b[38;5;241m.\u001b[39mshape[\u001b[38;5;241m0\u001b[39m]):\n\u001b[0;32m---> 76\u001b[0m     per_subject_aucs\u001b[38;5;241m.\u001b[39mappend(\u001b[43mget_auroc\u001b[49m\u001b[43m(\u001b[49m\u001b[43my_true\u001b[49m\u001b[43m[\u001b[49m\u001b[43msubject_id\u001b[49m\u001b[43m]\u001b[49m\u001b[43m,\u001b[49m\u001b[43m \u001b[49m\u001b[43my_preds\u001b[49m\u001b[43m[\u001b[49m\u001b[43msubject_id\u001b[49m\u001b[43m]\u001b[49m\u001b[43m,\u001b[49m\u001b[43m \u001b[49m\u001b[43munc\u001b[49m\u001b[43m[\u001b[49m\u001b[43msubject_id\u001b[49m\u001b[43m]\u001b[49m\u001b[43m,\u001b[49m\u001b[43m \u001b[49m\u001b[43misStandard\u001b[49m\u001b[43m)\u001b[49m)\n\u001b[1;32m     78\u001b[0m \u001b[38;5;28;01mreturn\u001b[39;00m np\u001b[38;5;241m.\u001b[39marray(per_subject_aucs), unc\u001b[38;5;241m.\u001b[39mmean(axis\u001b[38;5;241m=\u001b[39m\u001b[38;5;241m1\u001b[39m)\n",
      "Cell \u001b[0;32mIn[3], line 64\u001b[0m, in \u001b[0;36mget_auroc\u001b[0;34m(y_true, y_pred, unc, isStandard)\u001b[0m\n\u001b[1;32m     63\u001b[0m \u001b[38;5;28;01mdef\u001b[39;00m \u001b[38;5;21mget_auroc\u001b[39m(y_true, y_pred, unc, isStandard):\n\u001b[0;32m---> 64\u001b[0m     tpr, fpr \u001b[38;5;241m=\u001b[39m \u001b[43mget_fpr_tpr\u001b[49m\u001b[43m(\u001b[49m\u001b[43my_true\u001b[49m\u001b[43m,\u001b[49m\u001b[43m \u001b[49m\u001b[43my_pred\u001b[49m\u001b[43m,\u001b[49m\u001b[43m \u001b[49m\u001b[43munc\u001b[49m\u001b[43m,\u001b[49m\u001b[43m \u001b[49m\u001b[43misStandard\u001b[49m\u001b[43m)\u001b[49m\n\u001b[1;32m     65\u001b[0m     \u001b[38;5;28;01mreturn\u001b[39;00m auc(tpr, fpr)\n",
      "Cell \u001b[0;32mIn[3], line 59\u001b[0m, in \u001b[0;36mget_fpr_tpr\u001b[0;34m(y_true, y_pred, unc, isStandard)\u001b[0m\n\u001b[1;32m     57\u001b[0m     tn \u001b[38;5;241m=\u001b[39m \u001b[38;5;28msum\u001b[39m(y_pred\u001b[38;5;241m.\u001b[39margmax(axis\u001b[38;5;241m=\u001b[39m\u001b[38;5;241m1\u001b[39m)[certains] \u001b[38;5;241m==\u001b[39m y_true\u001b[38;5;241m.\u001b[39margmax(axis\u001b[38;5;241m=\u001b[39m\u001b[38;5;241m1\u001b[39m)[certains]) \u001b[38;5;66;03m# Prediction that's certain and correct\u001b[39;00m\n\u001b[1;32m     58\u001b[0m     \u001b[38;5;66;03m# print(f'tp: {tp} fn: {fn} fp: {fp} tn: {tn}')\u001b[39;00m\n\u001b[0;32m---> 59\u001b[0m     fpr\u001b[38;5;241m.\u001b[39mappend(\u001b[43mfp\u001b[49m\u001b[43m \u001b[49m\u001b[38;5;241;43m/\u001b[39;49m\u001b[43m \u001b[49m\u001b[43m(\u001b[49m\u001b[43mfp\u001b[49m\u001b[43m \u001b[49m\u001b[38;5;241;43m+\u001b[39;49m\u001b[43m \u001b[49m\u001b[43mtn\u001b[49m\u001b[43m)\u001b[49m)\n\u001b[1;32m     60\u001b[0m     tpr\u001b[38;5;241m.\u001b[39mappend(tp \u001b[38;5;241m/\u001b[39m (tp \u001b[38;5;241m+\u001b[39m fn))\n\u001b[1;32m     61\u001b[0m \u001b[38;5;28;01mreturn\u001b[39;00m np\u001b[38;5;241m.\u001b[39marray(tpr), np\u001b[38;5;241m.\u001b[39marray(fpr)\n",
      "\u001b[0;31mZeroDivisionError\u001b[0m: division by zero"
     ]
    }
   ],
   "source": [
    "# For each method, get accuracy on test (out-of-population) \n",
    "# and lockbox (within-population) set\n",
    "for method in methods:\n",
    "    preds = ff.load_predictions(method)[method]\n",
    "    for key in keys:\n",
    "        accs = np.array(ff.get_accuracies(preds[key]))\n",
    "        per_subj_dict[method]['accuracy'][key] = accs\n",
    "\n",
    "for method in methods:\n",
    "    print('-----------------------------------------------')\n",
    "    print(method)\n",
    "    for key in keys:\n",
    "        print(key)\n",
    "        data = ff.load_predictions(method)[method]\n",
    "        for unc_method in metrics:\n",
    "            print(unc_method)\n",
    "            if unc_method == 'accuracy':\n",
    "                continue\n",
    "            # Do not compute mutual information for dropout, dropconnect and DUQ\n",
    "            elif unc_method == 'mutual-information' and ff.checkIfStandard(method) in [1, 2]:\n",
    "                continue\n",
    "            aurocs, _ = do_everything(data, method, key, unc_method)\n",
    "            per_subj_dict[method][unc_method][key] = aurocs\n",
    "            print(f'{np.mean(aurocs) * 100} +/- {np.std(aurocs) * 100}')\n",
    "\n"
   ]
  }
 ],
 "metadata": {
  "kernelspec": {
   "display_name": "tf",
   "language": "python",
   "name": "python3"
  },
  "language_info": {
   "codemirror_mode": {
    "name": "ipython",
    "version": 3
   },
   "file_extension": ".py",
   "mimetype": "text/x-python",
   "name": "python",
   "nbconvert_exporter": "python",
   "pygments_lexer": "ipython3",
   "version": "3.9.18"
  }
 },
 "nbformat": 4,
 "nbformat_minor": 2
}
