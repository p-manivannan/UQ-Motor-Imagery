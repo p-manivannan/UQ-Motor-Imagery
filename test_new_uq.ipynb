{
 "cells": [
  {
   "cell_type": "markdown",
   "metadata": {},
   "source": [
    "# Purpose\n",
    "\n",
    "This notebook is to test implementation of Ensemble, Flipout and DUQ models.\n",
    "- Question: Can the ensembles use dropout and dropconnect weights? Or are they to be trained without either."
   ]
  },
  {
   "cell_type": "code",
   "execution_count": 1,
   "metadata": {},
   "outputs": [],
   "source": [
    "# Model for ensemble:\n",
    "# model = DeepEnsembleClassifier(lambda: build_standard_model(dropout_best_hps), num_estimators=10)     100 epochs\n",
    "# DUQ: 200 epochs\n",
    "# Flipout: 200 epochs"
   ]
  },
  {
   "cell_type": "code",
   "execution_count": 2,
   "metadata": {},
   "outputs": [
    {
     "name": "stdout",
     "output_type": "stream",
     "text": [
      "env: CUDA_VISIBLE_DEVICES=1\n"
     ]
    }
   ],
   "source": [
    "%env CUDA_VISIBLE_DEVICES=1"
   ]
  },
  {
   "cell_type": "code",
   "execution_count": 5,
   "metadata": {},
   "outputs": [],
   "source": [
    "import sys, os\n",
    "os.environ['TF_CPP_MIN_LOG_LEVEL'] = '3' \n",
    "os.environ[\"CUDA_VISIBLE_DEVICES\"]=\"1\" \n",
    "from sklearn.model_selection import train_test_split\n",
    "from keras.callbacks import EarlyStopping\n",
    "from models_bachelors import *\n",
    "from file_functions import *\n",
    "import tensorflow as tf\n",
    "import keras_tuner as kt\n",
    "from keras_uncertainty.models import StochasticClassifier\n",
    "import time"
   ]
  },
  {
   "cell_type": "code",
   "execution_count": 6,
   "metadata": {},
   "outputs": [],
   "source": [
    "'''\n",
    "Load best hyperparams\n",
    "'''\n",
    "\n",
    "n_epochs= 200\n",
    "early_stopping = EarlyStopping(monitor='val_loss', patience=10)\n",
    "subject_ids = [0, 1, 2, 3, 4, 5, 6, 7, 8]\n",
    "'''\n",
    "Load data\n",
    "'''\n",
    "dataset = load('all_subjects_runs_no_bandpass')\n",
    "lockbox = load('lockbox')['data']\n",
    "loaded_inputs = dataset['inputs']\n",
    "loaded_targets = dataset['targets']"
   ]
  },
  {
   "cell_type": "code",
   "execution_count": 4,
   "metadata": {},
   "outputs": [],
   "source": [
    "import time\n",
    "\n",
    "class TimeHistory(keras.callbacks.Callback):\n",
    "    def on_train_begin(self, logs={}):\n",
    "        self.times = []\n",
    "\n",
    "    def on_epoch_begin(self, batch, logs={}):\n",
    "        self.epoch_time_start = time.time()\n",
    "\n",
    "    def on_epoch_end(self, batch, logs={}):\n",
    "        self.times.append(time.time() - self.epoch_time_start)"
   ]
  },
  {
   "cell_type": "code",
   "execution_count": 5,
   "metadata": {},
   "outputs": [
    {
     "name": "stdout",
     "output_type": "stream",
     "text": [
      "Reloading Tuner from flipout/tuning/flipout_2/tuner0.json\n"
     ]
    },
    {
     "name": "stderr",
     "output_type": "stream",
     "text": [
      "/home/pmanivannan/miniconda3/envs/tf/lib/python3.9/site-packages/tensorflow/python/util/dispatch.py:1260: UserWarning: `tf.keras.backend.random_binomial` is deprecated, and will be removed in a future version.Please use `tf.keras.backend.random_bernoulli` instead.\n",
      "  return dispatch_target(*args, **kwargs)\n"
     ]
    }
   ],
   "source": [
    "methods = {'flipout': [], 'duq': [], ''}\n",
    "x_train_shape_0 = None\n",
    "\n",
    "\n",
    "'''\n",
    "Training Loop\n",
    "'''\n",
    "for method in methods:\n",
    "    # This loop leaves one subject for testing (denoted by the number in the name of the weights file).\n",
    "    # Then it combines all the subject trials such that shape is now (8 * 576, 22, 1125).\n",
    "    # Then selects 10% of this as the validation set. Then it trains diff. model on each set of train subjects.\n",
    "    for test_subject_id in subject_ids:\n",
    "        train_ids = subject_ids[:]\n",
    "        train_ids.remove(test_subject_id)       # Remove test subject id\n",
    "        test_subj_lockbox = lockbox[test_subject_id]        # Get lockbox indexes (8, 57) for the test subject\n",
    "        inputs = loaded_inputs[train_ids]           # Get train set inputs\n",
    "        targets = loaded_targets[train_ids]         # Get train set targets\n",
    "        inputs, targets = remove_lockbox(inputs, targets, test_subj_lockbox)    # Remove lockboxed set from train set\n",
    "        X_train, X_val, Y_train, Y_val = train_test_split(inputs, targets,test_size=0.1) \n",
    "        if x_train_shape_0 == None:\n",
    "            x_train_shape_0 = X_train.shape[0]\n",
    "            hp = load_tuned_flipout(x_train_shape_0)\n",
    "\n",
    "        model = build_flipout_model(hp, x_train_shape_0)\n",
    "        start_time = time.time()\n",
    "        history = model.fit(X_train, Y_train, epochs=n_epochs, validation_data=[X_val, Y_val],\n",
    "                        callbacks=[early_stopping, time_callback], verbose=0)\n",
    "        # model.save_weights(f'{directory}_test_subj_{test_subject_id}')\n",
    "        "
   ]
  },
  {
   "cell_type": "code",
   "execution_count": 7,
   "metadata": {},
   "outputs": [
    {
     "name": "stdout",
     "output_type": "stream",
     "text": [
      "Reloading Tuner from duq/tuning/duq_nunits_morethan_100/tuner0.json\n",
      "Results summary\n",
      "Results in duq/tuning/duq_nunits_morethan_100\n",
      "Showing 10 best trials\n",
      "Objective(name=\"val_loss\", direction=\"min\")\n",
      "\n",
      "Trial 017 summary\n",
      "Hyperparameters:\n",
      "dense_units: 100\n",
      "dense_activation: relu\n",
      "length_scale: 0.4\n",
      "train_centroids: 1\n",
      "Score: 0.3539585471153259\n",
      "\n",
      "Trial 058 summary\n",
      "Hyperparameters:\n",
      "dense_units: 300\n",
      "dense_activation: relu\n",
      "length_scale: 0.5\n",
      "train_centroids: 0\n",
      "Score: 0.3559551537036896\n",
      "\n",
      "Trial 074 summary\n",
      "Hyperparameters:\n",
      "dense_units: 400\n",
      "dense_activation: relu\n",
      "length_scale: 0.3\n",
      "train_centroids: 0\n",
      "Score: 0.35879483819007874\n",
      "\n",
      "Trial 039 summary\n",
      "Hyperparameters:\n",
      "dense_units: 200\n",
      "dense_activation: relu\n",
      "length_scale: 0.5\n",
      "train_centroids: 1\n",
      "Score: 0.3617439568042755\n",
      "\n",
      "Trial 038 summary\n",
      "Hyperparameters:\n",
      "dense_units: 200\n",
      "dense_activation: relu\n",
      "length_scale: 0.5\n",
      "train_centroids: 0\n",
      "Score: 0.3619697690010071\n",
      "\n",
      "Trial 056 summary\n",
      "Hyperparameters:\n",
      "dense_units: 300\n",
      "dense_activation: relu\n",
      "length_scale: 0.4\n",
      "train_centroids: 0\n",
      "Score: 0.3634137511253357\n",
      "\n",
      "Trial 012 summary\n",
      "Hyperparameters:\n",
      "dense_units: 100\n",
      "dense_activation: relu\n",
      "length_scale: 0.2\n",
      "train_centroids: 0\n",
      "Score: 0.3642592430114746\n",
      "\n",
      "Trial 050 summary\n",
      "Hyperparameters:\n",
      "dense_units: 300\n",
      "dense_activation: relu\n",
      "length_scale: 0.1\n",
      "train_centroids: 0\n",
      "Score: 0.3667971193790436\n",
      "\n",
      "Trial 059 summary\n",
      "Hyperparameters:\n",
      "dense_units: 300\n",
      "dense_activation: relu\n",
      "length_scale: 0.5\n",
      "train_centroids: 1\n",
      "Score: 0.36738860607147217\n",
      "\n",
      "Trial 032 summary\n",
      "Hyperparameters:\n",
      "dense_units: 200\n",
      "dense_activation: relu\n",
      "length_scale: 0.2\n",
      "train_centroids: 0\n",
      "Score: 0.3684691786766052\n",
      "3.041361166880681 +/- 0.151150333594172\n"
     ]
    }
   ],
   "source": [
    "methods = ['duq']\n",
    "time_callback = TimeHistory()\n",
    "times = None\n",
    "\n",
    "hp = load_tuned_duq()\n",
    "\n",
    "'''\n",
    "Training Loop\n",
    "'''\n",
    "for method in methods:\n",
    "    # This loop leaves one subject for testing (denoted by the number in the name of the weights file).\n",
    "    # Then it combines all the subject trials such that shape is now (8 * 576, 22, 1125).\n",
    "    # Then selects 10% of this as the validation set. Then it trains diff. model on each set of train subjects.\n",
    "    for test_subject_id in subject_ids:\n",
    "        train_ids = subject_ids[:]\n",
    "        train_ids.remove(test_subject_id)       # Remove test subject id\n",
    "        test_subj_lockbox = lockbox[test_subject_id]        # Get lockbox indexes (8, 57) for the test subject\n",
    "        inputs = loaded_inputs[train_ids]           # Get train set inputs\n",
    "        targets = loaded_targets[train_ids]         # Get train set targets\n",
    "        inputs, targets = remove_lockbox(inputs, targets, test_subj_lockbox)    # Remove lockboxed set from train set\n",
    "        X_train, X_val, Y_train, Y_val = train_test_split(inputs, targets,test_size=0.1) \n",
    "        if hp == None:         # Needed to load hyperparams for flipout\n",
    "            # hp = load_tuned_flipout(X_train.shape[0])\n",
    "            pass\n",
    "\n",
    "        model = build_duq_model(hp)\n",
    "        history = model.fit(X_train, Y_train, epochs=n_epochs, validation_data=[X_val, Y_val],\n",
    "                        callbacks=[early_stopping, time_callback], verbose=0)\n",
    "        times = time_callback.times\n",
    "        break\n",
    "\n",
    "print(f'{np.mean(times)} +/- {np.std(times)}')"
   ]
  },
  {
   "cell_type": "code",
   "execution_count": 8,
   "metadata": {},
   "outputs": [
    {
     "name": "stdout",
     "output_type": "stream",
     "text": [
      "Reloading Tuner from mcdropout/tuning/mcdropout/tuner0.json\n",
      "Reloading Tuner from mcdropconnect/tuning/mcdropconnect/tuner0.json\n",
      "3.146103620529175 +/- 0.46615941000979116\n"
     ]
    }
   ],
   "source": [
    "methods = ['standard_dropout']\n",
    "time_callback = TimeHistory()\n",
    "times = None\n",
    "\n",
    "dropout_best_hps, dropconnect_best_hps = load_tuned_models()\n",
    "\n",
    "'''\n",
    "Training Loop standard\n",
    "'''\n",
    "# Training loop for MCDropout and MCDropconnect methods\n",
    "for method in methods:\n",
    "    for test_subject_id in subject_ids:\n",
    "        train_ids = subject_ids[:]\n",
    "        train_ids.remove(test_subject_id)       # Remove test subject id\n",
    "        test_subj_lockbox = lockbox[test_subject_id]        # Get lockbox indexes (8, 57) for the test subject\n",
    "        inputs = loaded_inputs[train_ids]           # Get train set inputs\n",
    "        targets = loaded_targets[train_ids]         # Get train set targets\n",
    "        inputs, targets = remove_lockbox(inputs, targets, test_subj_lockbox)    # Remove lockboxed set from train set\n",
    "        X_train, X_val, Y_train, Y_val = train_test_split(inputs, targets,test_size=0.1)\n",
    "        \n",
    "        model = build_standard_model(dropout_best_hps)\n",
    "        history = model.fit(X_train, Y_train, epochs=n_epochs, validation_data=[X_val, Y_val],\n",
    "                        callbacks=[early_stopping, time_callback], verbose=0)\n",
    "        times = time_callback.times\n",
    "        break\n",
    "\n",
    "print(f'{np.mean(times)} +/- {np.std(times)}')  \n",
    "                "
   ]
  },
  {
   "cell_type": "code",
   "execution_count": 9,
   "metadata": {},
   "outputs": [
    {
     "name": "stdout",
     "output_type": "stream",
     "text": [
      "Reloading Tuner from mcdropout/tuning/mcdropout/tuner0.json\n",
      "Reloading Tuner from mcdropconnect/tuning/mcdropconnect/tuner0.json\n"
     ]
    }
   ],
   "source": [
    "from keras_uncertainty.models import DeepEnsembleClassifier\n",
    "\n",
    "methods = ['ensemble_dropout']\n",
    "time_callback = TimeHistory()\n",
    "times = None\n",
    "\n",
    "dropout_best_hps, dropconnect_best_hps = load_tuned_models()\n",
    "\n",
    "'''\n",
    "Training Loop standard\n",
    "'''\n",
    "# Training loop for MCDropout and MCDropconnect methods\n",
    "for method in methods:\n",
    "    for test_subject_id in subject_ids:\n",
    "        train_ids = subject_ids[:]\n",
    "        train_ids.remove(test_subject_id)       # Remove test subject id\n",
    "        test_subj_lockbox = lockbox[test_subject_id]        # Get lockbox indexes (8, 57) for the test subject\n",
    "        inputs = loaded_inputs[train_ids]           # Get train set inputs\n",
    "        targets = loaded_targets[train_ids]         # Get train set targets\n",
    "        inputs, targets = remove_lockbox(inputs, targets, test_subj_lockbox)    # Remove lockboxed set from train set\n",
    "        X_train, X_val, Y_train, Y_val = train_test_split(inputs, targets,test_size=0.1)\n",
    "        model = DeepEnsembleClassifier(lambda: build_standard_model(dropout_best_hps), num_estimators=10) \n",
    "        history = model.fit(X_train, Y_train, epochs=n_epochs, validation_data=[X_val, Y_val],\n",
    "                        callbacks=[early_stopping, time_callback], verbose=0)\n",
    "        times = time_callback.times\n",
    "        break\n",
    "\n",
    "print(f'{np.mean(times)} +/- {np.std(times)}')   \n",
    "                "
   ]
  },
  {
   "cell_type": "markdown",
   "metadata": {},
   "source": [
    "# Predicting\n",
    "\n",
    "But only to record the inference time. Actual predicting is done by modification and execution of the file 'predict_new_uq.py'"
   ]
  },
  {
   "cell_type": "code",
   "execution_count": null,
   "metadata": {},
   "outputs": [],
   "source": [
    "NUM = 1\n",
    "# For each iteration, store results dict into a \n",
    "for iteration in range(0, NUM):\n",
    "    # For each method, get preds and labels for each test subject\n",
    "    # and their corresponding lockbox set.\n",
    "    times =     {'standard': [],\n",
    "                'standard_dropconnect': [],\n",
    "                'duq': [],\n",
    "                'flipout': [],\n",
    "                'ensemble_dropout': [],\n",
    "                'mcdropout': [],\n",
    "                'mcdropconnect': []\n",
    "                }\n",
    "\n",
    "    for method, values in predictions.items():\n",
    "        print(f'{method}')\n",
    "        if method == 'standard':\n",
    "            wts_directory = f'mcdropout/weights'\n",
    "        elif method == 'standard_dropconnect':\n",
    "            wts_directory = f'mcdropconnect/weights'\n",
    "        else:\n",
    "            wts_directory = f'{method}/weights'\n",
    "        # Iterate through test subjects\n",
    "        for test_subject_id in range(0, 9):\n",
    "            print(f'test subject {test_subject_id}')\n",
    "            train_subj_ids = [x for x in subject_ids if x != test_subject_id]\n",
    "            X_test = loaded_inputs[test_subject_id]\n",
    "            Y_true = loaded_targets[test_subject_id]\n",
    "            # Train set is sent in because lockbox is returned from the train set not the whole dataset.\n",
    "            # This is because lockbox shape: (9, 8, 57) and inputs shape: (9, 576, 22, 1125)\n",
    "            # Axis 0 are test_subj_ids and axis 1 are the train_subject_ids.\n",
    "            # The function assumes that shape[0] of lockbox[test_subj_id] and shape[0] of\n",
    "            # inputs is the same: 8.\n",
    "            X_lock, Y_lock = get_lockbox_data(loaded_inputs[train_subj_ids], loaded_targets[train_subj_ids], lockbox[test_subject_id])\n",
    "            wts_path = checkpoint_path = f'{wts_directory}/test_subj_{test_subject_id}'\n",
    "            if method == 'mcdropout':\n",
    "                model = build_dropout_model(dropout_best_hps)\n",
    "            elif method == 'mcdropconnect':\n",
    "                model = build_dropconnect_model(dropconnect_best_hps)\n",
    "            elif method == 'standard_dropconnect':\n",
    "                model = build_standard_model_dropconnect(dropconnect_best_hps)\n",
    "            elif method == 'duq':\n",
    "                model = build_duq_model(hp)\n",
    "            elif method == 'flipout':\n",
    "                model = build_flipout_model(hp, X_test)\n",
    "            else:\n",
    "                model = build_standard_model(dropout_best_hps)\n",
    "            \n",
    "            model.load_weights(wts_path).expect_partial()\n",
    "            # Get Y_preds for test subject\n",
    "            if method in ['mcdropconnect', 'mcdropout', 'flipout']:\n",
    "                model = StochasticClassifier(model)\n",
    "                Y_preds = model.predict_samples(X_test, num_samples=50)\n",
    "                # Get lockboxed Y_preds for test subject\n",
    "                lockbox_Y_preds = model.predict_samples(X_lock, num_samples=50)\n",
    "            else:\n",
    "                Y_preds = model.predict(X_test)\n",
    "                # Get lockboxed Y_preds for test subject\n",
    "                lockbox_Y_preds = model.predict(X_lock)"
   ]
  }
 ],
 "metadata": {
  "kernelspec": {
   "display_name": "Python 3",
   "language": "python",
   "name": "python3"
  },
  "language_info": {
   "codemirror_mode": {
    "name": "ipython",
    "version": 3
   },
   "file_extension": ".py",
   "mimetype": "text/x-python",
   "name": "python",
   "nbconvert_exporter": "python",
   "pygments_lexer": "ipython3",
   "version": "3.9.18"
  }
 },
 "nbformat": 4,
 "nbformat_minor": 2
}
