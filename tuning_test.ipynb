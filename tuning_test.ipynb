{
 "cells": [
  {
   "cell_type": "code",
   "execution_count": null,
   "metadata": {},
   "outputs": [],
   "source": [
    "import tuning as tn\n",
    "from file_functions import load_dict_from_hdf5, load_lockbox"
   ]
  },
  {
   "cell_type": "code",
   "execution_count": null,
   "metadata": {},
   "outputs": [],
   "source": [
    "methods = ['standard_dropconnect', 'duq']\n",
    "# Load data\n",
    "dataset = load_dict_from_hdf5('dataset')\n",
    "lockbox = load_lockbox()\n",
    "for method in methods:\n",
    "    Class = tn.get_class(method)\n",
    "    tuner = tn.Tuner(method=method, hypermodel=Class.build)\n",
    "    tuner.search(dataset, lockbox)\n"
   ]
  }
 ],
 "metadata": {
  "kernelspec": {
   "display_name": "tf",
   "language": "python",
   "name": "python3"
  },
  "language_info": {
   "codemirror_mode": {
    "name": "ipython",
    "version": 3
   },
   "file_extension": ".py",
   "mimetype": "text/x-python",
   "name": "python",
   "nbconvert_exporter": "python",
   "pygments_lexer": "ipython3",
   "version": "3.9.18"
  }
 },
 "nbformat": 4,
 "nbformat_minor": 2
}
