{
 "cells": [
  {
   "cell_type": "code",
   "execution_count": 1,
   "metadata": {},
   "outputs": [
    {
     "name": "stdout",
     "output_type": "stream",
     "text": [
      "WARNING:tensorflow:From c:\\Users\\pithw\\.conda\\envs\\tf\\lib\\site-packages\\keras\\src\\losses.py:2976: The name tf.losses.sparse_softmax_cross_entropy is deprecated. Please use tf.compat.v1.losses.sparse_softmax_cross_entropy instead.\n",
      "\n"
     ]
    },
    {
     "name": "stderr",
     "output_type": "stream",
     "text": [
      "Keras Uncertainty will use standalone Keras backend"
     ]
    },
    {
     "ename": "ImportError",
     "evalue": "cannot import name 'load_dataset' from 'file_functions' (c:\\Users\\pithw\\Desktop\\University\\1_PERSONAL PROJECTS\\UQ-Motor-Imagery\\file_functions\\__init__.py)",
     "output_type": "error",
     "traceback": [
      "\u001b[1;31m---------------------------------------------------------------------------\u001b[0m",
      "\u001b[1;31mImportError\u001b[0m                               Traceback (most recent call last)",
      "Cell \u001b[1;32mIn [1], line 2\u001b[0m\n\u001b[0;32m      1\u001b[0m \u001b[38;5;28;01mimport\u001b[39;00m \u001b[38;5;21;01mtuning\u001b[39;00m \u001b[38;5;28;01mas\u001b[39;00m \u001b[38;5;21;01mtn\u001b[39;00m\n\u001b[1;32m----> 2\u001b[0m \u001b[38;5;28;01mfrom\u001b[39;00m \u001b[38;5;21;01mfile_functions\u001b[39;00m \u001b[38;5;28;01mimport\u001b[39;00m load_dataset, load_lockbox\n",
      "\u001b[1;31mImportError\u001b[0m: cannot import name 'load_dataset' from 'file_functions' (c:\\Users\\pithw\\Desktop\\University\\1_PERSONAL PROJECTS\\UQ-Motor-Imagery\\file_functions\\__init__.py)"
     ]
    }
   ],
   "source": [
    "import tuning as tn\n",
    "from file_functions import load_dict_from_hdf5, load_lockbox"
   ]
  },
  {
   "cell_type": "code",
   "execution_count": null,
   "metadata": {},
   "outputs": [],
   "source": [
    "import kerastuner as kt\n",
    "methods = ['duq', 'mcdropout']\n",
    "# Load data\n",
    "dataset = load_dict_from_hdf5('dataset.h5')\n",
    "lockbox = load_lockbox()\n",
    "for method in methods:\n",
    "    Class = tn.get_class(method)\n",
    "    tuner = Tuner(method=method, hypermodel=Class.build)\n",
    "    tuner.search(dataset, lockbox)\n"
   ]
  }
 ],
 "metadata": {
  "kernelspec": {
   "display_name": "tf",
   "language": "python",
   "name": "python3"
  },
  "language_info": {
   "codemirror_mode": {
    "name": "ipython",
    "version": 3
   },
   "file_extension": ".py",
   "mimetype": "text/x-python",
   "name": "python",
   "nbconvert_exporter": "python",
   "pygments_lexer": "ipython3",
   "version": "3.9.18"
  }
 },
 "nbformat": 4,
 "nbformat_minor": 2
}
