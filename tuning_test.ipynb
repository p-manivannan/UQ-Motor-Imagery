{
 "cells": [
  {
   "cell_type": "code",
   "execution_count": null,
   "metadata": {},
   "outputs": [],
   "source": [
    "import tuning as tn\n",
    "from file_functions import load_dataset, load_lockbox"
   ]
  },
  {
   "cell_type": "code",
   "execution_count": null,
   "metadata": {},
   "outputs": [],
   "source": [
    "import kerastuner as kt\n",
    "methods = ['duq', 'mcdropout']\n",
    "# Load data\n",
    "dataset = load_dict_from_hdf5('dataset.h5')\n",
    "lockbox = load_lockbox()\n",
    "for method in methods:\n",
    "    Class = tn.get_class(method)\n",
    "    tuner = Tuner(method=method)\n",
    "    # tuner.search(X_train, Y_train, epochs=n_epochs, validation_data=(X_val, Y_val),\n",
    "    #              callbacks=callbacks)\n"
   ]
  }
 ],
 "metadata": {
  "kernelspec": {
   "display_name": "tf",
   "language": "python",
   "name": "python3"
  },
  "language_info": {
   "codemirror_mode": {
    "name": "ipython",
    "version": 3
   },
   "file_extension": ".py",
   "mimetype": "text/x-python",
   "name": "python",
   "nbconvert_exporter": "python",
   "pygments_lexer": "ipython3",
   "version": "3.9.18"
  }
 },
 "nbformat": 4,
 "nbformat_minor": 2
}
